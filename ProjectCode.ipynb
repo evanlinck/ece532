{
 "cells": [
  {
   "cell_type": "markdown",
   "metadata": {},
   "source": [
    "### Project Code for ECE 532 project\n",
    "\n",
    "Evan Linck\n",
    "\n",
    "There are three algorithms that are used in this project: LASSO regression, K-nearest neigbhors, and neural nets"
   ]
  },
  {
   "cell_type": "code",
   "execution_count": 468,
   "metadata": {},
   "outputs": [],
   "source": [
    "import pandas as pd\n",
    "import numpy as np\n",
    "from matplotlib import pyplot as plt\n",
    "import os\n",
    "pd.set_option('display.max_columns', None)\n",
    "import time"
   ]
  },
  {
   "cell_type": "markdown",
   "metadata": {},
   "source": [
    "### Read in data and standardize for algorithms\n",
    "\n",
    "Data was preprocessed in the FeatureExtraction file"
   ]
  },
  {
   "cell_type": "code",
   "execution_count": 343,
   "metadata": {},
   "outputs": [],
   "source": [
    "with open(\"allfeatures.csv\") as f:\n",
    "    data = pd.read_csv(f)\n",
    "IDS = data['ID'] #drop ID from matrix\n",
    "data = data.drop(\"ID\",axis=1)"
   ]
  },
  {
   "cell_type": "markdown",
   "metadata": {},
   "source": [
    "Group different types of stars together. The listing of each type of star is below. Labels are from here: http://faculty.washington.edu/ivezic/sdss/catalogs/S82variables.html\n",
    "\n",
    "data['temp_cl'].loc[data['cl']=='unknown']='unknown'<br>\n",
    "data['temp_cl'].loc[data['cl']=='QSO']='QSO' #variable quasars<br>\n",
    "data['temp_cl'].loc[data['cl']=='del_scu']='del_scu' #delta scuti variables<br>\n",
    "data['temp_cl'].loc[data['cl']=='EC']='EC' #Contact binaries in ASAS-3<br>\n",
    "data['temp_cl'].loc[data['cl']=='ED']='ED' #Detached eclipsing binaries<br>\n",
    "data['temp_cl'].loc[data['cl']=='ESD']='ESD' #Semi-detached eclipsing binaries<br>\n",
    "data['temp_cl'].loc[data['cl']=='EC/ESD']='EC/ESD'<br>\n",
    "data['temp_cl'].loc[data['cl']=='ESD/ED']='ESD/ED'<br>\n",
    "data['temp_cl'].loc[data['cl']=='EC*']='EC*'<br>\n",
    "data['temp_cl'].loc[data['cl']=='ED*']='ED*'<br>\n",
    "data['temp_cl'].loc[data['cl']=='mult']='mult'<br>\n",
    "data['temp_cl'].loc[data['cl']=='ew']='ew' #W Ursae Majoris-type eclipsing variables<br>\n",
    "data['temp_cl'].loc[data['cl']=='ea']='ea' #beta Persei-type (Algol) eclipsing systems<br>\n",
    "data['temp_cl'].loc[data['cl']=='eb']='eb' #beta Lyrae-type eclipsing systems<br>\n",
    "data['temp_cl'].loc[data['cl']=='rr_ab']='rr_ab' #RR Lyrae variables with asymmetric light curves<br>\n",
    "data['temp_cl'].loc[data['cl']=='rr_c']='rr_c' #RR Lyrae variables with nearly symmetric<br>\n",
    "data['temp_cl'].loc[data['cl']=='rr_d']='rr_d' #Double-mode RR Lyrae stars which pulsate...<br>\n",
    "data['temp_cl'].loc[data['cl']=='bl']='bl' #RR Lyrae stars showing the Blazhko effect.<br>\n",
    "data['temp_cl'].loc[data['cl']=='rs']='rs' #non-eclipsing RS CVn stars<br>\n",
    "data['temp_cl'].loc[data['cl']=='acep']='acep' #Anomalous Cepheids<br>\n",
    "data['temp_cl'].loc[data['cl']=='cep-ii']='cep-ii' ####need to confirm which star this is...<br>\n",
    "data['temp_cl'].loc[data['cl']=='hads']='hads' #High Amplitude delta Scuti stars<br>\n",
    "data['temp_cl'].loc[data['cl']=='lads']='lads' #low-amplitude delta Scuti stars<br>\n",
    "data['temp_cl'].loc[data['cl']=='lpv']='lpv' #Long Period Variables <br>\n",
    "data['temp_cl'].loc[data['cl']=='ell']='ell' #ellipsoidal binary system<br>\n",
    "data['temp_cl'].loc[data['cl']=='hump']='hump' #LPV Humps<br>\n",
    "data['temp_cl'].loc[data['cl']=='pceb']='pceb' #post common envelope binary planetary system<br>\n",
    "data['temp_cl'].loc[data['cl']=='ea_up']='ea_up' <br>\n",
    "data['temp_cl'].loc[data['cl']=='RRAB']='rr_ab' #RR Lyrae variables with asymmetric light curves<br>\n",
    "data['temp_cl'].loc[data['cl']=='RRmf']='rr_mf'<br>\n",
    "data['temp_cl'].loc[data['cl']=='RRC']='rr_c' #RR Lyrae variables with nearly symmetric<br>\n",
    "data['temp_cl'].loc[data['cl']=='RRdm']='rr_dm' #Detached main-sequence systems?<br>\n",
    "data['temp_cl'].loc[data['cl']=='RRu']='rr_u'"
   ]
  },
  {
   "cell_type": "code",
   "execution_count": 64,
   "metadata": {},
   "outputs": [],
   "source": [
    "data.at[data['category'].isin(['EC','EC*', 'EC/ESD', 'ED', 'ED*' ,'ESD', 'ESD/ED']),'numcategory']=0\n",
    "data.at[data['category'].isin(['ea' ,'eb','ew']),'numcategory']=1\n",
    "data.at[data['category'].isin(['QSO']),'numcategory']=2\n",
    "data.at[data['category'].isin(['rr_ab', 'rr_c', 'rr_dm', 'rr_mf', 'rr_u']),'numcategory']=3\n",
    "data.at[data['category'].isin(['del_scu']),'numcategory']=4\n",
    "data.at[data['category'].isin(['rs','lpv', 'mult']),'numcategory']=5"
   ]
  },
  {
   "cell_type": "markdown",
   "metadata": {},
   "source": [
    "####  Standardize and group for cross validation"
   ]
  },
  {
   "cell_type": "code",
   "execution_count": 65,
   "metadata": {},
   "outputs": [],
   "source": [
    "from sklearn.preprocessing import StandardScaler\n",
    "standardized = data.replace(np.nan, 0).fillna(0.0).replace(np.inf,10**6).iloc[:,:-2].copy()\n",
    "a=StandardScaler().fit_transform(standardized)\n",
    "labels = data.iloc[:,-2:]\n",
    "standardized = pd.DataFrame(a,columns=data.iloc[:,:-2].columns)\n",
    "standardized=pd.concat([standardized,labels],axis=1)\n",
    "\n",
    "#Split by category\n",
    "eclipse = standardized.loc[data['numcategory']==0]\n",
    "eclipsevariable = standardized.loc[data['numcategory']==1]\n",
    "QSO = standardized.loc[data['numcategory']==2].iloc[0:527]#grab 527 QSO objects\n",
    "rr =  standardized.loc[data['numcategory']==3]\n",
    "del_scu = standardized.loc[data['numcategory']==4]\n",
    "other = standardized.loc[data['numcategory']==5]\n",
    "\n",
    "#split each category into 5 equal parts\n",
    "ec = np.array_split(eclipse, 5)\n",
    "ecv = np.array_split(eclipsevariable, 5)\n",
    "qs = np.array_split(QSO, 5)\n",
    "r = np.array_split(rr, 5)\n",
    "ds = np.array_split(del_scu, 5)\n",
    "ot = np.array_split(other, 5)\n",
    "\n",
    "#create 5 groups for cross-validation\n",
    "groups = {}\n",
    "labels = {}\n",
    "\n",
    "for i in range(5):\n",
    "    frames = [ec[i],ecv[i],qs[i],r[i],ds[i],ot[i]]\n",
    "    groups[i] = pd.concat(frames,axis=0, join='outer', ignore_index=True, keys=None,\n",
    "          levels=None, names=None, verify_integrity=False, copy=True)\n",
    "    labels[i] = groups[i]['numcategory'].values"
   ]
  },
  {
   "cell_type": "markdown",
   "metadata": {},
   "source": [
    "#### LASSO "
   ]
  },
  {
   "cell_type": "code",
   "execution_count": 469,
   "metadata": {},
   "outputs": [
    {
     "data": {
      "text/plain": [
       "0.010124578475952148"
      ]
     },
     "execution_count": 469,
     "metadata": {},
     "output_type": "execute_result"
    }
   ],
   "source": [
    "from sklearn.linear_model import Lasso\n",
    "from sklearn.feature_selection import SelectFromModel\n",
    "\n",
    "from itertools import combinations #for cross validation\n",
    "lst = [0,1,2,3,4]\n",
    "\n",
    "alphas = np.logspace(-4,1,50) #test alphas from 10^-4 to 10\n",
    "\n",
    "errors = []\n",
    "t = []\n",
    "for alpha in alphas:\n",
    "    errors.append([])\n",
    "    for combo in combinations(lst, 4):  # 2 for pairs, 3 for triplets, etc\n",
    "        t0 = time.time()\n",
    "        othernum = sum(lst)-sum(combo)\n",
    "        model = Lasso(alpha = alpha, max_iter=10000)\n",
    "        test = pd.concat([groups[combo[0]],groups[combo[1]],groups[combo[2]],groups[combo[3]]],axis=0, join='outer', ignore_index=True, keys=None,\n",
    "                  levels=None, names=None, verify_integrity=False, copy=True).to_numpy()[:,:-2].astype(np.float64)\n",
    "        label = np.concatenate([labels[combo[0]],labels[combo[1]],labels[combo[2]],labels[combo[3]]]).ravel()\n",
    "        model.fit(test, label)\n",
    "        errors[-1].append(model.score(groups[othernum].to_numpy()[:,:-2].astype(np.float64),labels[othernum]))\n",
    "        t.append(time.time()-t0)\n",
    "avgerror = np.apply_along_axis(np.mean,1,np.array(errors))"
   ]
  },
  {
   "cell_type": "code",
   "execution_count": 366,
   "metadata": {},
   "outputs": [
    {
     "data": {
      "image/png": "[encoded data removed]",
      "text/plain": [
       "<Figure size 576x144 with 1 Axes>"
      ]
     },
     "metadata": {
      "needs_background": "light"
     },
     "output_type": "display_data"
    }
   ],
   "source": [
    "fig,ax = plt.subplots(figsize=(8,2))\n",
    "ax.plot(alphas,avgerror)\n",
    "ax.set_xscale('log')\n",
    "ax.set_xlabel(\"$\\lambda$ regularization parameter\")\n",
    "ax.set_ylabel(\"Percent Correct\")\n",
    "ax.set_title(\"LASSO Regression\")\n",
    "\n",
    "plt.savefig(\"lasso.png\",bbox_inches='tight')"
   ]
  },
  {
   "cell_type": "code",
   "execution_count": 370,
   "metadata": {},
   "outputs": [
    {
     "name": "stdout",
     "output_type": "stream",
     "text": [
      "Selected features: ['Amplitude' 'Autocor_length' 'Beyond1Std' 'CAR_mean' 'CAR_sigma' 'Color'\n",
      " 'Eta_e' 'FluxPercentileRatioMid20' 'FluxPercentileRatioMid65'\n",
      " 'Freq1_harmonics_amplitude_0' 'Freq1_harmonics_amplitude_2'\n",
      " 'Freq1_harmonics_rel_phase_2' 'Freq1_harmonics_rel_phase_3'\n",
      " 'Freq2_harmonics_rel_phase_1' 'Freq2_harmonics_rel_phase_3'\n",
      " 'Freq3_harmonics_rel_phase_3' 'LinearTrend' 'MaxSlope' 'Mean' 'MedianBRP'\n",
      " 'PercentAmplitude' 'Period_fit' 'Psi_eta' 'Q31_color' 'Rcs' 'Skew'\n",
      " 'SlottedA_length' 'SmallKurtosis' 'StetsonK' 'StetsonK_AC']\n"
     ]
    },
    {
     "data": {
      "text/plain": [
       "30"
      ]
     },
     "execution_count": 370,
     "metadata": {},
     "output_type": "execute_result"
    }
   ],
   "source": [
    "#Find important features\n",
    "model = Lasso(alpha = alphas[avgerror.argmax()])\n",
    "test = pd.concat([groups[0],groups[1],groups[2],groups[3],groups[4]],axis=0, join='outer', ignore_index=True, keys=None,\n",
    "          levels=None, names=None, verify_integrity=False, copy=True).to_numpy()[:,:-2].astype(np.float64)\n",
    "label = np.concatenate([labels[0],labels[1],labels[2],labels[3],labels[4]]).ravel()\n",
    "model.fit(test, label)\n",
    "importance = np.abs(model.coef_)\n",
    "idx_features = (-importance).argsort()[:7]\n",
    "name_features = np.array(feature_names)[idx_features]\n",
    "\n",
    "name_features=np.array(feature_names)[np.where(importance>1e-8)]\n",
    "print('Selected features: {}'.format(name_features))\n",
    "len(name_features)"
   ]
  },
  {
   "cell_type": "markdown",
   "metadata": {},
   "source": [
    "### KNN"
   ]
  },
  {
   "cell_type": "code",
   "execution_count": 489,
   "metadata": {},
   "outputs": [
    {
     "data": {
      "text/plain": [
       "0.0250521183013916"
      ]
     },
     "execution_count": 489,
     "metadata": {},
     "output_type": "execute_result"
    }
   ],
   "source": [
    "from sklearn.neighbors import KNeighborsClassifier\n",
    "\n",
    "errors = []\n",
    "t=[]\n",
    "for combo in combinations(lst, 4):  # 2 for pairs, 3 for triplets, etc\n",
    "    t0 = time.time()\n",
    "    othernum = sum(lst)-sum(combo)\n",
    "    model = KNeighborsClassifier(n_neighbors=10)\n",
    "    test = pd.concat([groups[combo[0]],groups[combo[1]],groups[combo[2]],groups[combo[3]]],axis=0, join='outer', ignore_index=True, keys=None,\n",
    "              levels=None, names=None, verify_integrity=False, copy=True)[name_features[:25]].to_numpy()[:,:-2].astype(np.float64)\n",
    "    label = np.concatenate([labels[combo[0]],labels[combo[1]],labels[combo[2]],labels[combo[3]]]).ravel()\n",
    "    model.fit(test, label)\n",
    "    errors.append(model.score(groups[othernum][name_features[:25]].to_numpy()[:,:-2].astype(np.float64),labels[othernum]))\n",
    "    #print(np.where(model.predict(groups[othernum][name_features[:25]].to_numpy()[:,:-2].astype(np.float64))>4))\n",
    "    t.append(time.time()-t0)\n",
    "np.average(t)"
   ]
  },
  {
   "cell_type": "code",
   "execution_count": 462,
   "metadata": {},
   "outputs": [
    {
     "data": {
      "text/plain": [
       "0.8850620658345616"
      ]
     },
     "execution_count": 462,
     "metadata": {},
     "output_type": "execute_result"
    }
   ],
   "source": [
    "np.mean(errors)"
   ]
  },
  {
   "cell_type": "code",
   "execution_count": 490,
   "metadata": {},
   "outputs": [
    {
     "data": {
      "text/plain": [
       "Text(0.5, 1.0, 'Clusters of objects based on two important features')"
      ]
     },
     "execution_count": 490,
     "metadata": {},
     "output_type": "execute_result"
    },
    {
     "data": {
      "image/png": "[encoded data removed]",
      "text/plain": [
       "<Figure size 432x288 with 1 Axes>"
      ]
     },
     "metadata": {
      "needs_background": "light"
     },
     "output_type": "display_data"
    }
   ],
   "source": [
    "fig, ax = plt.subplots()\n",
    "\n",
    "for i in range(1,7):\n",
    "    colors=['tab:green','tab:cyan','tab:blue','tab:red','k','tab:orange']\n",
    "    lab = ['Eclipsing Binary',\n",
    "        'Eclipsing Variable ',\n",
    "        'QSO' ,\n",
    "        'RR Lyrae',\n",
    "        'Delta Scuti' ,\n",
    "        'Other' ]\n",
    "    data.loc[data.numcategory ==(i-1)].plot.scatter(x='Color',y='Rcs',c=colors[i-1], ax=ax,label=lab[i-1])\n",
    "ax.legend(bbox_to_anchor=(.85, 0.5),framealpha=1)\n",
    "ax.set_title(\"Clusters of objects based on two important features\")\n",
    "fig.savefig(\"knn.png\", bbox_inches='tight')"
   ]
  },
  {
   "cell_type": "markdown",
   "metadata": {},
   "source": [
    "### Neural Net"
   ]
  },
  {
   "cell_type": "code",
   "execution_count": 219,
   "metadata": {},
   "outputs": [
    {
     "data": {
      "text/plain": [
       "array([  1,  11,  22,  32,  43,  54,  64,  75,  86,  96, 107, 118, 128,\n",
       "       139, 150])"
      ]
     },
     "execution_count": 219,
     "metadata": {},
     "output_type": "execute_result"
    }
   ],
   "source": [
    "#create lists of number of nodes and layers for both the breadth and depth searches\n",
    "nodes = np.linspace(1,150, 15,dtype=int)\n",
    "\n",
    "params = []\n",
    "params2 = []\n",
    "params3 = []\n",
    "for i in nodes:\n",
    "    params.append(tuple([i]))\n",
    "for i in params:\n",
    "    for n in nodes:\n",
    "        params2.append((i[0],n))\n",
    "for i in params:\n",
    "    for m in params:\n",
    "        for n in nodes:\n",
    "            params3.append((i[0],m[0],n))\n",
    "\n",
    "params.extend(params2)\n",
    "params.extend(params3)            \n",
    "            \n",
    "params1 = []\n",
    "for i in np.linspace(1,300, 150,dtype=int):\n",
    "    params1.append(tuple([i]))"
   ]
  },
  {
   "cell_type": "code",
   "execution_count": 493,
   "metadata": {},
   "outputs": [
    {
     "name": "stdout",
     "output_type": "stream",
     "text": [
      "0\n",
      "50\n",
      "100\n",
      "0.07243858814239502\n"
     ]
    }
   ],
   "source": [
    "#run NN for depth search. Change loop to over \"params\" for breadth search\n",
    "\n",
    "from sklearn.neural_network import MLPClassifier\n",
    "\n",
    "errors = []\n",
    "\n",
    "\n",
    "alphas = np.logspace(-4,1,50)\n",
    "\n",
    "errors = []\n",
    "count =0\n",
    "t=[]\n",
    "for param in params1:\n",
    "    errors.append([])\n",
    "    if count %50 ==0:\n",
    "        print(count)\n",
    "    count+=1\n",
    "    \n",
    "    for combo in combinations(lst, 4):  # 2 for pairs, 3 for triplets, etc\n",
    "        t0 = time.time()\n",
    "        othernum = sum(lst)-sum(combo)\n",
    "        model = MLPClassifier(solver='lbfgs', alpha=1e-5, hidden_layer_sizes=param, random_state=1)\n",
    "        test = pd.concat([groups[combo[0]],groups[combo[1]],groups[combo[2]],groups[combo[3]]],axis=0, join='outer', ignore_index=True, keys=None,\n",
    "                  levels=None, names=None, verify_integrity=False, copy=True)[name_features[:25]].to_numpy()[:,:-2].astype(np.float64)\n",
    "        label = np.concatenate([labels[combo[0]],labels[combo[1]],labels[combo[2]],labels[combo[3]]]).ravel()\n",
    "        model.fit(test, label)\n",
    "        errors[-1].append(model.score(groups[othernum][name_features[:25]].to_numpy()[:,:-2].astype(np.float64),labels[othernum]))\n",
    "        t.append(time.time()-t0)\n",
    "\n",
    "        #         print(np.where(model.predict(groups[othernum][name_features[:25]].to_numpy()[:,:-2].astype(np.float64))>4))\n",
    "print(np.mean(t))\n",
    "avgerror = np.apply_along_axis(np.mean,1,np.array(errors))"
   ]
  },
  {
   "cell_type": "code",
   "execution_count": 494,
   "metadata": {
    "scrolled": true
   },
   "outputs": [
    {
     "name": "stdout",
     "output_type": "stream",
     "text": [
      "[0.92635378 0.92119228 0.91982752 0.9198261  0.91977571 0.91850193\n",
      " 0.91731337 0.91731326 0.91731283 0.91730401 0.91729618 0.91727909\n",
      " 0.9172201  0.91716089 0.91604808 0.91604786 0.9160225  0.9160224\n",
      " 0.91601412 0.91600585 0.91600585 0.91600531 0.9160052  0.91598822\n",
      " 0.91598093 0.91592945 0.91591302 0.91475754 0.91473229 0.91472413\n",
      " 0.91469834 0.91469834 0.91468169 0.91463086 0.9146055  0.91346711\n",
      " 0.9134176  0.91341639 0.91339092 0.91335817 0.91335719 0.91335719\n",
      " 0.91331452 0.91327328 0.91218473 0.91214261 0.9121339  0.91210898\n",
      " 0.9121006  0.9121006  0.91208395 0.9120673  0.91205892 0.91205065\n",
      " 0.91205011 0.91203247 0.91200766 0.91091922 0.91090257 0.91089441\n",
      " 0.91086883 0.91086056 0.91081017 0.91081006 0.91080201 0.91080135\n",
      " 0.91079385 0.91077643 0.910776   0.91068305 0.90957905 0.90955369\n",
      " 0.90952834 0.90952039 0.90949449 0.90949438 0.90946064 0.90945237\n",
      " 0.90942691 0.90828808 0.90825489 0.90824607 0.90822126 0.90822126\n",
      " 0.90822115 0.9082206  0.90821288 0.90820395 0.90819579 0.90817914\n",
      " 0.90817076 0.90813658 0.90693028 0.90691308 0.90689643 0.90688783\n",
      " 0.90686291 0.90685409 0.905707   0.90564812 0.90559839 0.9055481\n",
      " 0.90554701 0.90439219 0.90436727 0.90434169 0.90429892 0.90425724\n",
      " 0.90314398 0.90313539 0.9030925  0.90306769 0.9030592  0.90305887\n",
      " 0.90299227 0.90294036 0.90183625 0.90181144 0.90177726 0.90175179\n",
      " 0.90174243 0.90173504 0.90170978 0.90167605 0.9004101  0.90040227\n",
      " 0.90038616 0.90036015 0.89919662 0.89919651 0.89913785 0.89794819\n",
      " 0.89786461 0.89782162 0.89662457 0.89657353 0.89646317 0.8952745\n",
      " 0.89398428 0.8939081  0.89286429 0.89147949 0.88750753 0.88622571\n",
      " 0.88609053 0.88362764 0.88361001 0.88242896 0.8773938  0.83462609]\n"
     ]
    },
    {
     "data": {
      "text/plain": [
       "array([[155],\n",
       "       [207],\n",
       "       [165],\n",
       "       [251],\n",
       "       [161],\n",
       "       [249],\n",
       "       [285],\n",
       "       [237],\n",
       "       [257],\n",
       "       [291],\n",
       "       [203],\n",
       "       [269],\n",
       "       [229],\n",
       "       [235],\n",
       "       [211],\n",
       "       [107],\n",
       "       [ 83],\n",
       "       [267],\n",
       "       [131],\n",
       "       [221],\n",
       "       [199],\n",
       "       [177],\n",
       "       [233],\n",
       "       [217],\n",
       "       [201],\n",
       "       [145],\n",
       "       [273],\n",
       "       [261],\n",
       "       [277],\n",
       "       [129],\n",
       "       [281],\n",
       "       [183],\n",
       "       [241],\n",
       "       [209],\n",
       "       [265],\n",
       "       [ 45],\n",
       "       [ 33],\n",
       "       [271],\n",
       "       [287],\n",
       "       [169],\n",
       "       [219],\n",
       "       [189],\n",
       "       [193],\n",
       "       [147],\n",
       "       [275],\n",
       "       [109],\n",
       "       [297],\n",
       "       [171],\n",
       "       [151],\n",
       "       [187],\n",
       "       [279],\n",
       "       [300],\n",
       "       [103],\n",
       "       [ 31],\n",
       "       [153],\n",
       "       [105],\n",
       "       [111],\n",
       "       [115],\n",
       "       [197],\n",
       "       [223],\n",
       "       [231],\n",
       "       [289],\n",
       "       [ 75],\n",
       "       [117],\n",
       "       [245],\n",
       "       [215],\n",
       "       [125],\n",
       "       [239],\n",
       "       [139],\n",
       "       [263],\n",
       "       [259],\n",
       "       [ 53],\n",
       "       [ 51],\n",
       "       [157],\n",
       "       [255],\n",
       "       [185],\n",
       "       [247],\n",
       "       [213],\n",
       "       [ 87],\n",
       "       [ 43],\n",
       "       [ 39],\n",
       "       [243],\n",
       "       [195],\n",
       "       [173],\n",
       "       [293],\n",
       "       [149],\n",
       "       [ 99],\n",
       "       [283],\n",
       "       [ 85],\n",
       "       [227],\n",
       "       [ 27],\n",
       "       [295],\n",
       "       [159],\n",
       "       [ 21],\n",
       "       [113],\n",
       "       [ 67],\n",
       "       [101],\n",
       "       [167],\n",
       "       [191],\n",
       "       [135],\n",
       "       [205],\n",
       "       [ 91],\n",
       "       [175],\n",
       "       [ 49],\n",
       "       [253],\n",
       "       [133],\n",
       "       [ 61],\n",
       "       [143],\n",
       "       [137],\n",
       "       [141],\n",
       "       [179],\n",
       "       [225],\n",
       "       [123],\n",
       "       [ 65],\n",
       "       [ 89],\n",
       "       [ 95],\n",
       "       [ 19],\n",
       "       [ 69],\n",
       "       [ 73],\n",
       "       [ 93],\n",
       "       [ 77],\n",
       "       [ 71],\n",
       "       [ 35],\n",
       "       [121],\n",
       "       [ 97],\n",
       "       [ 29],\n",
       "       [163],\n",
       "       [181],\n",
       "       [ 47],\n",
       "       [ 63],\n",
       "       [119],\n",
       "       [ 79],\n",
       "       [ 59],\n",
       "       [ 41],\n",
       "       [ 57],\n",
       "       [ 23],\n",
       "       [ 81],\n",
       "       [ 11],\n",
       "       [ 37],\n",
       "       [127],\n",
       "       [  7],\n",
       "       [ 25],\n",
       "       [ 15],\n",
       "       [  9],\n",
       "       [  5],\n",
       "       [ 17],\n",
       "       [ 13],\n",
       "       [ 55],\n",
       "       [  3],\n",
       "       [  1]])"
      ]
     },
     "execution_count": 494,
     "metadata": {},
     "output_type": "execute_result"
    }
   ],
   "source": [
    "#identify most accurate and number of nodes and layers that produce them\n",
    "idx_features = (-avgerror).argsort()[:150]\n",
    "print(np.array(avgerror)[idx_features])\n",
    "np.array(params1)[idx_features]"
   ]
  },
  {
   "cell_type": "code",
   "execution_count": 337,
   "metadata": {},
   "outputs": [
    {
     "name": "stdout",
     "output_type": "stream",
     "text": [
      "[(32, 128, 32) (22, 43, 86) (118, 22, 150) (107, 86, 32) (139, 43, 107)\n",
      " (43, 96, 54) (96, 118, 150) (107, 139, 118) (139, 75, 75) (150, 64, 54)\n",
      " (150, 107, 96) (107, 139, 54) (32, 75) (150, 107, 64) (150, 139, 128)\n",
      " (139, 11, 22) (64, 43, 96) (128, 32, 96) (43, 150, 150) (54, 150, 86)\n",
      " (107, 107, 118) (107, 86, 107) (64, 128, 43) (43, 128, 64) (64, 107, 54)\n",
      " (43, 75, 118) (54, 54, 96) (107, 150, 118) (96, 75, 22) (64, 54, 43)\n",
      " (139, 118, 64) (118, 86, 32) (64,) (118, 139, 75) (128, 139, 86)\n",
      " (107, 150, 86) (139, 22, 150) (96, 118, 107) (139, 75, 107)\n",
      " (107, 118, 150) (107, 118, 128) (96, 75, 128) (128, 96, 64) (64, 75, 139)\n",
      " (128, 64, 139) (96, 107, 43) (150, 75, 64) (86, 43, 54) (43, 86, 96)\n",
      " (107, 96, 107)]\n"
     ]
    },
    {
     "data": {
      "text/plain": [
       "array([0.92376629, 0.9236395 , 0.92249044, 0.92246704, 0.92234809,\n",
       "       0.9212011 , 0.92119283, 0.92115953, 0.92112579, 0.92109205,\n",
       "       0.91991948, 0.91986822, 0.91986039, 0.91985201, 0.91983492,\n",
       "       0.91981   , 0.91978464, 0.91975896, 0.91970084, 0.91863754,\n",
       "       0.91861197, 0.91860468, 0.91860282, 0.91858704, 0.91856179,\n",
       "       0.91855298, 0.91855232, 0.91853622, 0.91852849, 0.91852707,\n",
       "       0.91851913, 0.91850259, 0.9185015 , 0.91848594, 0.91736321,\n",
       "       0.91734722, 0.91732197, 0.91731326, 0.91730521, 0.91729683,\n",
       "       0.9172879 , 0.91726277, 0.91726255, 0.91726244, 0.91725439,\n",
       "       0.91724644, 0.91724579, 0.91723806, 0.91723719, 0.91722958])"
      ]
     },
     "execution_count": 337,
     "metadata": {},
     "output_type": "execute_result"
    }
   ],
   "source": [
    "#results for breadth search\n",
    "print(np.array(params)[idx_features])\n",
    "np.array(avgerror)[idx_features]"
   ]
  },
  {
   "cell_type": "markdown",
   "metadata": {},
   "source": [
    "Graph"
   ]
  },
  {
   "cell_type": "code",
   "execution_count": 335,
   "metadata": {},
   "outputs": [
    {
     "data": {
      "image/png": "[encoded data removed]",
      "text/plain": [
       "<Figure size 432x288 with 1 Axes>"
      ]
     },
     "metadata": {
      "needs_background": "light"
     },
     "output_type": "display_data"
    }
   ],
   "source": [
    "x1 = np.asarray(params[0:len(params1)])\n",
    "x2 = np.asarray(params[len(params1):(len(params2)+len(params1))])\n",
    "x3 = np.asarray(params[(len(params2)+len(params1)):])\n",
    "x1 = np.apply_along_axis(sum,1,x1)\n",
    "x2 = np.apply_along_axis(sum,1,x2)\n",
    "x3 = np.apply_along_axis(sum,1,x3)\n",
    "\n",
    "y1 = avgerror[0:len(params1)]\n",
    "y2 = avgerror[len(params1):(len(params2)+len(params1))]\n",
    "y3 = avgerror[(len(params2)+len(params1)):]\n",
    "\n",
    "fig,ax= plt.subplots()\n",
    "\n",
    "ax.scatter(x3,y3,c='deepskyblue',s=12,label='3 hidden nodes')\n",
    "\n",
    "ax.scatter(x=x2,y=y2,c='darkgreen',s=12,label='2 hidden nodes')\n",
    "ax.scatter(x=x1,y=y1,c='firebrick',s=12,label='1 hidden node')\n",
    "ax.legend()\n",
    "ax.set_xlabel(\"Total nodes across all hidden layers\")\n",
    "ax.set_ylabel(\"Percent Correct\")\n",
    "ax.set_title(\"Cross-validated parameter selection for number of layers and nodes\")\n",
    "plt.savefig(\"NN_CV_params.png\",bbox_inches='tight')"
   ]
  },
  {
   "cell_type": "code",
   "execution_count": null,
   "metadata": {},
   "outputs": [],
   "source": []
  }
 ],
 "metadata": {
  "kernelspec": {
   "display_name": "Python 3",
   "language": "python",
   "name": "python3"
  },
  "language_info": {
   "codemirror_mode": {
    "name": "ipython",
    "version": 3
   },
   "file_extension": ".py",
   "mimetype": "text/x-python",
   "name": "python",
   "nbconvert_exporter": "python",
   "pygments_lexer": "ipython3",
   "version": "3.7.4"
  },
  "varInspector": {
   "cols": {
    "lenName": 16,
    "lenType": 16,
    "lenVar": 40
   },
   "kernels_config": {
    "python": {
     "delete_cmd_postfix": "",
     "delete_cmd_prefix": "del ",
     "library": "var_list.py",
     "varRefreshCmd": "print(var_dic_list())"
    },
    "r": {
     "delete_cmd_postfix": ") ",
     "delete_cmd_prefix": "rm(",
     "library": "var_list.r",
     "varRefreshCmd": "cat(var_dic_list()) "
    }
   },
   "types_to_exclude": [
    "module",
    "function",
    "builtin_function_or_method",
    "instance",
    "_Feature"
   ],
   "window_display": false
  }
 },
 "nbformat": 4,
 "nbformat_minor": 2
}
